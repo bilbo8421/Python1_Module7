{
 "cells": [
  {
   "cell_type": "markdown",
   "metadata": {},
   "source": [
    "### Exercise 1\n",
    "Ask a user to enter a number. If the number is positive, print <b>Positive number</b>. Otherwise, do not print any message. Finally, print 'goodbye' message at the end."
   ]
  },
  {
   "cell_type": "code",
   "execution_count": 7,
   "metadata": {},
   "outputs": [
    {
     "name": "stdin",
     "output_type": "stream",
     "text": [
      "Enter a Number 78.5\n"
     ]
    },
    {
     "name": "stdout",
     "output_type": "stream",
     "text": [
      "Positive number\n",
      "***\n",
      "Goodbye\n"
     ]
    }
   ],
   "source": [
    "randnum = float(input(\"Enter a Number\"))\n",
    "if randnum >= 0 :\n",
    "    print(\"Positive number\")\n",
    "else :\n",
    "    None\n",
    "print(\"***\\nGoodbye\")\n"
   ]
  },
  {
   "cell_type": "markdown",
   "metadata": {},
   "source": [
    "### Exercise 2\n",
    "Ask for a code and store that answer. \n",
    "If the answer is grey then print out if you found secret code.\n",
    "Otherwise print out the code is not the secret code."
   ]
  },
  {
   "cell_type": "code",
   "execution_count": 2,
   "metadata": {},
   "outputs": [
    {
     "name": "stdin",
     "output_type": "stream",
     "text": [
      "Enter the secret code: GREY\n"
     ]
    },
    {
     "name": "stdout",
     "output_type": "stream",
     "text": [
      "NOT the secret code :(\n"
     ]
    }
   ],
   "source": [
    "secret_code = \"grey\"\n",
    "guess_code = input(\"Enter the secret code:\")\n",
    "if guess_code == secret_code :\n",
    "    print(\"You FOUND the secret code :)\")\n",
    "else :\n",
    "    print(\"NOT the secret code :(\")"
   ]
  },
  {
   "cell_type": "markdown",
   "metadata": {},
   "source": [
    "### Exercise 3\n",
    "\n",
    "Ask a user to enter a phrase. If the word contains a number, display the \"Number found\" message. Otherwise, show the \"Number not found\" message. "
   ]
  },
  {
   "cell_type": "markdown",
   "metadata": {},
   "source": [
    "*<-- found solution on web -->*  \n",
    "**def has_numbers** (inputString):  \n",
    "&nbsp;&nbsp;return any(char.isdigit() for char in inputString)  \n",
    "has_numbers(\"I own 1 dog\")  \n",
    "**True**"
   ]
  },
  {
   "cell_type": "code",
   "execution_count": 3,
   "metadata": {},
   "outputs": [
    {
     "name": "stdin",
     "output_type": "stream",
     "text": [
      "Enter a phrase: a cat has 9 lives\n"
     ]
    },
    {
     "name": "stdout",
     "output_type": "stream",
     "text": [
      "Number found :)\n",
      "**************\n",
      "['a', 'cat', 'has', '9', 'lives']\n"
     ]
    }
   ],
   "source": [
    "phrase = input(\"Enter a phrase:\")\n",
    "if any(char.isdigit() for char in phrase) :\n",
    "    print(\"Number found :)\")\n",
    "else :\n",
    "    print(\"Number NOT found :(\")\n",
    "print(f\"**************\\n{phrase.split()}\")"
   ]
  },
  {
   "cell_type": "markdown",
   "metadata": {},
   "source": [
    "### Exercise 4\n",
    "\n",
    "Ask a user to enter a number. Then, only if the number is divisible by 2 and 3, show the result of the number divided by two and three in a formated string. The output should look something like this:\n",
    "        \n",
    "    Enter a number: 2\n",
    "    Bye    \n",
    "    \n",
    "    Enter a number: 60\n",
    "    60 / 2 = 30.0\n",
    "    60 / 3 = 20.0\n",
    "    Bye\n",
    "    \n",
    "    Enter a number: 3\n",
    "    Bye\n",
    "    \n",
    "    Enter a number: 10\n",
    "    Bye    "
   ]
  },
  {
   "cell_type": "code",
   "execution_count": 4,
   "metadata": {},
   "outputs": [
    {
     "name": "stdin",
     "output_type": "stream",
     "text": [
      "Enter a Number 56\n"
     ]
    },
    {
     "name": "stdout",
     "output_type": "stream",
     "text": [
      "Bye\n"
     ]
    }
   ],
   "source": [
    "numdiv = int(input(\"Enter a Number\"))\n",
    "\n",
    "if numdiv % 2 == 0 and numdiv % 3 == 0 :\n",
    "    print(f\"{numdiv} / 2 = {numdiv/2}\")\n",
    "    print(f\"{numdiv} / 3 = {numdiv/3}\")\n",
    "else :\n",
    "    print(\"Bye\")"
   ]
  },
  {
   "cell_type": "markdown",
   "metadata": {},
   "source": [
    "### Exercise 5\n",
    "Ask a user to enter a number. Determine if the number is zero, positive or negative. Use only <b>if</b> and <b>else</b> statements. \n",
    "    "
   ]
  },
  {
   "cell_type": "code",
   "execution_count": 6,
   "metadata": {},
   "outputs": [
    {
     "name": "stdin",
     "output_type": "stream",
     "text": [
      "Enter a Number .5\n"
     ]
    },
    {
     "name": "stdout",
     "output_type": "stream",
     "text": [
      "Number is positive\n"
     ]
    }
   ],
   "source": [
    "numitup = float(input(\"Enter a Number\"))\n",
    "if numitup > 0 :\n",
    "    print(\"Number is positive\")\n",
    "elif numitup == 0 :\n",
    "    print(\"Number is zero\")\n",
    "else :\n",
    "    print(\"Number is negative\")"
   ]
  },
  {
   "cell_type": "code",
   "execution_count": null,
   "metadata": {},
   "outputs": [],
   "source": []
  }
 ],
 "metadata": {
  "kernelspec": {
   "display_name": "Python 3 (ipykernel)",
   "language": "python",
   "name": "python3"
  },
  "language_info": {
   "codemirror_mode": {
    "name": "ipython",
    "version": 3
   },
   "file_extension": ".py",
   "mimetype": "text/x-python",
   "name": "python",
   "nbconvert_exporter": "python",
   "pygments_lexer": "ipython3",
   "version": "3.11.7"
  }
 },
 "nbformat": 4,
 "nbformat_minor": 4
}
